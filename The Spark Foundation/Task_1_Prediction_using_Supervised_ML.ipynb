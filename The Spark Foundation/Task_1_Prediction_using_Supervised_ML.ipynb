{
  "nbformat": 4,
  "nbformat_minor": 0,
  "metadata": {
    "kernelspec": {
      "display_name": "Python 3",
      "language": "python",
      "name": "python3"
    },
    "language_info": {
      "codemirror_mode": {
        "name": "ipython",
        "version": 3
      },
      "file_extension": ".py",
      "mimetype": "text/x-python",
      "name": "python",
      "nbconvert_exporter": "python",
      "pygments_lexer": "ipython3",
      "version": "3.7.4"
    },
    "colab": {
      "name": "Task 1 - Prediction using Supervised ML.ipynb",
      "provenance": [],
      "collapsed_sections": []
    }
  },
  "cells": [
    {
      "cell_type": "markdown",
      "metadata": {
        "id": "yKRBgSiwH5Re"
      },
      "source": [
        "# The Sparks Foundation : Data Science & Business Analytics Tasks"
      ]
    },
    {
      "cell_type": "markdown",
      "metadata": {
        "id": "eJaRPAqxH5Rm"
      },
      "source": [
        "**Task 1 : Predict the percentage of an student based on the no. of study hours.**"
      ]
    },
    {
      "cell_type": "markdown",
      "metadata": {
        "id": "182EP43iH5Ro"
      },
      "source": [
        "**Here only two variables are involved , one is Hours, Independent Variable and other one is Scores which is Dependent Variable.\n",
        "For this prediction, Linear Regression would be best choice.**"
      ]
    },
    {
      "cell_type": "markdown",
      "metadata": {
        "id": "zQ8Yar_EH5Rp"
      },
      "source": [
        "# Importing libraries and collecting data"
      ]
    },
    {
      "cell_type": "code",
      "metadata": {
        "id": "NlH64lgpH5Rr"
      },
      "source": [
        "#import all required libraries and functions\n",
        "import pandas as pd\n",
        "import numpy as np\n",
        "from sklearn.linear_model import LinearRegression\n",
        "from sklearn.model_selection import train_test_split\n",
        "from sklearn.linear_model import LinearRegression\n",
        "from sklearn import metrics\n",
        "import matplotlib.pyplot as plt\n",
        "%matplotlib inline"
      ],
      "execution_count": null,
      "outputs": []
    },
    {
      "cell_type": "code",
      "metadata": {
        "id": "Dr6Y-2kdH5Ru",
        "outputId": "291482aa-ecdf-4f00-9b02-c8a7b5292a1e"
      },
      "source": [
        "#import file \n",
        "link=\"https://raw.githubusercontent.com/AdiPersonalWorks/Random/master/student_scores%20-%20student_scores.csv\"\n",
        "dataset=pd.read_csv(link)\n",
        "dataset.head()"
      ],
      "execution_count": null,
      "outputs": [
        {
          "output_type": "execute_result",
          "data": {
            "text/html": [
              "<div>\n",
              "<style scoped>\n",
              "    .dataframe tbody tr th:only-of-type {\n",
              "        vertical-align: middle;\n",
              "    }\n",
              "\n",
              "    .dataframe tbody tr th {\n",
              "        vertical-align: top;\n",
              "    }\n",
              "\n",
              "    .dataframe thead th {\n",
              "        text-align: right;\n",
              "    }\n",
              "</style>\n",
              "<table border=\"1\" class=\"dataframe\">\n",
              "  <thead>\n",
              "    <tr style=\"text-align: right;\">\n",
              "      <th></th>\n",
              "      <th>Hours</th>\n",
              "      <th>Scores</th>\n",
              "    </tr>\n",
              "  </thead>\n",
              "  <tbody>\n",
              "    <tr>\n",
              "      <td>0</td>\n",
              "      <td>2.5</td>\n",
              "      <td>21</td>\n",
              "    </tr>\n",
              "    <tr>\n",
              "      <td>1</td>\n",
              "      <td>5.1</td>\n",
              "      <td>47</td>\n",
              "    </tr>\n",
              "    <tr>\n",
              "      <td>2</td>\n",
              "      <td>3.2</td>\n",
              "      <td>27</td>\n",
              "    </tr>\n",
              "    <tr>\n",
              "      <td>3</td>\n",
              "      <td>8.5</td>\n",
              "      <td>75</td>\n",
              "    </tr>\n",
              "    <tr>\n",
              "      <td>4</td>\n",
              "      <td>3.5</td>\n",
              "      <td>30</td>\n",
              "    </tr>\n",
              "  </tbody>\n",
              "</table>\n",
              "</div>"
            ],
            "text/plain": [
              "   Hours  Scores\n",
              "0    2.5      21\n",
              "1    5.1      47\n",
              "2    3.2      27\n",
              "3    8.5      75\n",
              "4    3.5      30"
            ]
          },
          "metadata": {
            "tags": []
          },
          "execution_count": 2
        }
      ]
    },
    {
      "cell_type": "markdown",
      "metadata": {
        "id": "rupQdbWRH5Ry"
      },
      "source": [
        "# Data Preparation"
      ]
    },
    {
      "cell_type": "code",
      "metadata": {
        "id": "XSH4XZAyH5Rz"
      },
      "source": [
        "# iloc function : divide the data\n",
        "X = dataset.iloc[:,:-1].values  \n",
        "y = dataset.iloc[:,1].values"
      ],
      "execution_count": null,
      "outputs": []
    },
    {
      "cell_type": "code",
      "metadata": {
        "id": "PqpIuN6LH5R0",
        "outputId": "aeb9e4e6-7d1d-4b68-f981-1782d9e776cc"
      },
      "source": [
        "dataset.info(verbose=True)"
      ],
      "execution_count": null,
      "outputs": [
        {
          "output_type": "stream",
          "text": [
            "<class 'pandas.core.frame.DataFrame'>\n",
            "RangeIndex: 25 entries, 0 to 24\n",
            "Data columns (total 2 columns):\n",
            "Hours     25 non-null float64\n",
            "Scores    25 non-null int64\n",
            "dtypes: float64(1), int64(1)\n",
            "memory usage: 528.0 bytes\n"
          ],
          "name": "stdout"
        }
      ]
    },
    {
      "cell_type": "code",
      "metadata": {
        "id": "RKnpI8AuH5R0"
      },
      "source": [
        "# train_test_split : split the data for training and testing purpose ,0]\n",
        "X_train,X_test,y_train,y_test=train_test_split(X,y,test_size=0.3,random_state=0)"
      ],
      "execution_count": null,
      "outputs": []
    },
    {
      "cell_type": "markdown",
      "metadata": {
        "id": "MXgHZyphH5R1"
      },
      "source": [
        "# Data Analysis"
      ]
    },
    {
      "cell_type": "code",
      "metadata": {
        "id": "k4rYj9f-H5R2",
        "outputId": "9a330acf-1b0b-4692-ca29-ccb75be1381f"
      },
      "source": [
        "#plot hours vs score\n",
        "plt.scatter(X,y,c=\"r\",marker=\"s\",label=\"score\")\n",
        "plt.title('Hours Vs Scores')\n",
        "plt.xlabel('hours')\n",
        "plt.ylabel('marks')\n",
        "plt.legend()\n",
        "plt.show()"
      ],
      "execution_count": null,
      "outputs": [
        {
          "output_type": "display_data",
          "data": {
            "image/png": "[encoded data removed]",
            "text/plain": [
              "<Figure size 432x288 with 1 Axes>"
            ]
          },
          "metadata": {
            "tags": [],
            "needs_background": "light"
          }
        }
      ]
    },
    {
      "cell_type": "markdown",
      "metadata": {
        "id": "SW50_ek0H5R2"
      },
      "source": [
        "# Training the data"
      ]
    },
    {
      "cell_type": "code",
      "metadata": {
        "id": "vRxGMJiqH5R3",
        "outputId": "fbb5a020-5254-4773-a584-310c33b7b271"
      },
      "source": [
        "regression=LinearRegression()\n",
        "regression.fit(X_train,y_train)"
      ],
      "execution_count": null,
      "outputs": [
        {
          "output_type": "execute_result",
          "data": {
            "text/plain": [
              "LinearRegression(copy_X=True, fit_intercept=True, n_jobs=None, normalize=False)"
            ]
          },
          "metadata": {
            "tags": []
          },
          "execution_count": 9
        }
      ]
    },
    {
      "cell_type": "code",
      "metadata": {
        "id": "ZmIHeAJyH5R5",
        "outputId": "07e9dbd6-48d0-4a8b-b68e-36157a176234"
      },
      "source": [
        "#plot of regression line\n",
        "line = regression.coef_*X+regression.intercept_\n",
        "# Plotting for the test data\n",
        "plt.scatter(X, y,c='r')\n",
        "plt.plot(X, line,'-g');\n",
        "plt.show()"
      ],
      "execution_count": null,
      "outputs": [
        {
          "output_type": "display_data",
          "data": {
            "image/png": "[encoded data removed]",
            "text/plain": [
              "<Figure size 432x288 with 1 Axes>"
            ]
          },
          "metadata": {
            "tags": [],
            "needs_background": "light"
          }
        }
      ]
    },
    {
      "cell_type": "markdown",
      "metadata": {
        "id": "_D9GcEKVH5R5"
      },
      "source": [
        "# Testing the data"
      ]
    },
    {
      "cell_type": "code",
      "metadata": {
        "scrolled": true,
        "id": "sUhxru4wH5R6",
        "outputId": "29bae74b-3e9d-4fe6-c9eb-b5713ba67f40"
      },
      "source": [
        "# prediction of scores based on training\n",
        "y_pred=regression.predict(X_test)\n",
        "\n",
        "prediction = pd.DataFrame([{'Hours':X_test,'Original Scores':y_test,'Predicted Scores':y_pred}])\n",
        "prediction.head()"
      ],
      "execution_count": null,
      "outputs": [
        {
          "output_type": "execute_result",
          "data": {
            "text/html": [
              "<div>\n",
              "<style scoped>\n",
              "    .dataframe tbody tr th:only-of-type {\n",
              "        vertical-align: middle;\n",
              "    }\n",
              "\n",
              "    .dataframe tbody tr th {\n",
              "        vertical-align: top;\n",
              "    }\n",
              "\n",
              "    .dataframe thead th {\n",
              "        text-align: right;\n",
              "    }\n",
              "</style>\n",
              "<table border=\"1\" class=\"dataframe\">\n",
              "  <thead>\n",
              "    <tr style=\"text-align: right;\">\n",
              "      <th></th>\n",
              "      <th>Hours</th>\n",
              "      <th>Original Scores</th>\n",
              "      <th>Predicted Scores</th>\n",
              "    </tr>\n",
              "  </thead>\n",
              "  <tbody>\n",
              "    <tr>\n",
              "      <td>0</td>\n",
              "      <td>[[1.5], [3.2], [7.4], [2.5], [5.9], [3.8], [1....</td>\n",
              "      <td>[20, 27, 69, 30, 62, 35, 24, 86]</td>\n",
              "      <td>[17.05366541246545, 33.69422877993883, 74.8062...</td>\n",
              "    </tr>\n",
              "  </tbody>\n",
              "</table>\n",
              "</div>"
            ],
            "text/plain": [
              "                                               Hours  \\\n",
              "0  [[1.5], [3.2], [7.4], [2.5], [5.9], [3.8], [1....   \n",
              "\n",
              "                    Original Scores  \\\n",
              "0  [20, 27, 69, 30, 62, 35, 24, 86]   \n",
              "\n",
              "                                    Predicted Scores  \n",
              "0  [17.05366541246545, 33.69422877993883, 74.8062...  "
            ]
          },
          "metadata": {
            "tags": []
          },
          "execution_count": 11
        }
      ]
    },
    {
      "cell_type": "markdown",
      "metadata": {
        "id": "StCAuvlQH5R6"
      },
      "source": [
        "# Accuracy Estimation"
      ]
    },
    {
      "cell_type": "code",
      "metadata": {
        "id": "zAdZ10NkH5R7",
        "outputId": "6de9f56b-6472-4d64-e027-dc3a56433bcb"
      },
      "source": [
        " print('Mean Absolute Error:',metrics.mean_absolute_error(y_test, y_pred))"
      ],
      "execution_count": null,
      "outputs": [
        {
          "output_type": "stream",
          "text": [
            "Mean Absolute Error: 4.419727808027652\n"
          ],
          "name": "stdout"
        }
      ]
    },
    {
      "cell_type": "code",
      "metadata": {
        "id": "ZkENiKwSH5R7",
        "outputId": "a53dde37-f7fb-4495-ad2d-d27c448cb69b"
      },
      "source": [
        "print('Coefficient of determination :',metrics.r2_score(y_test,y_pred))"
      ],
      "execution_count": null,
      "outputs": [
        {
          "output_type": "stream",
          "text": [
            "Coefficient of determination : 0.9568211104435257\n"
          ],
          "name": "stdout"
        }
      ]
    }
  ]
}