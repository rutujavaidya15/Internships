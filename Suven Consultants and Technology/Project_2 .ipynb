{
 "cells": [
  {
   "cell_type": "markdown",
   "metadata": {},
   "source": [
    "# Importing libraries and dataset"
   ]
  },
  {
   "cell_type": "code",
   "execution_count": 1,
   "metadata": {},
   "outputs": [],
   "source": [
    "# importing libraries\n",
    "from sklearn import datasets\n",
    "import seaborn as sns\n",
    "import matplotlib.pyplot as plt\n",
    "%matplotlib inline\n",
    "from sklearn.svm import SVC\n",
    "from sklearn.model_selection import train_test_split\n",
    "from sklearn.metrics import classification_report"
   ]
  },
  {
   "cell_type": "code",
   "execution_count": 2,
   "metadata": {},
   "outputs": [
    {
     "data": {
      "text/plain": [
       "115008"
      ]
     },
     "execution_count": 2,
     "metadata": {},
     "output_type": "execute_result"
    }
   ],
   "source": [
    "# Loading dataset\n",
    "digits = datasets.load_digits()\n",
    "\n",
    "digits.data.size"
   ]
  },
  {
   "cell_type": "markdown",
   "metadata": {},
   "source": [
    "### Null Hypothesis : \n",
    "> The Digitsdata set of scikit-learn library provides numerous data-sets that are useful for testing many problems of data analysis and prediction of the results. Some Scientist claims that it predicts the digit accurately 95% of the times."
   ]
  },
  {
   "cell_type": "markdown",
   "metadata": {},
   "source": [
    ">The data size is 115008, but group of 64(8x8) elements represent single digits , so there are 115008/64 = **1797 digits**.\n",
    "<br>\n",
    ">**NOTE** :While dividing the data into trainig and testing , we have to use 1797 digits as data and not 115008 elements."
   ]
  },
  {
   "cell_type": "markdown",
   "metadata": {},
   "source": [
    "### Lets see how this digits look"
   ]
  },
  {
   "cell_type": "code",
   "execution_count": 3,
   "metadata": {},
   "outputs": [
    {
     "data": {
      "text/plain": [
       "array([[ 0.,  0.,  5., 13.,  9.,  1.,  0.,  0.],\n",
       "       [ 0.,  0., 13., 15., 10., 15.,  5.,  0.],\n",
       "       [ 0.,  3., 15.,  2.,  0., 11.,  8.,  0.],\n",
       "       [ 0.,  4., 12.,  0.,  0.,  8.,  8.,  0.],\n",
       "       [ 0.,  5.,  8.,  0.,  0.,  9.,  8.,  0.],\n",
       "       [ 0.,  4., 11.,  0.,  1., 12.,  7.,  0.],\n",
       "       [ 0.,  2., 14.,  5., 10., 12.,  0.,  0.],\n",
       "       [ 0.,  0.,  6., 13., 10.,  0.,  0.,  0.]])"
      ]
     },
     "execution_count": 3,
     "metadata": {},
     "output_type": "execute_result"
    }
   ],
   "source": [
    "digits.images[0]"
   ]
  },
  {
   "cell_type": "markdown",
   "metadata": {},
   "source": [
    "##### This is a single element from an array. \n",
    "##### The images of the handwritten digits are contained in a digits.images array.\n",
    "##### Each element of this array is an image that is represented by an 8x8 matrix of numerical values that correspond to a grayscale from white, with a value of 0, to black, with the value 15"
   ]
  },
  {
   "cell_type": "code",
   "execution_count": 4,
   "metadata": {},
   "outputs": [
    {
     "data": {
      "text/plain": [
       "array([0, 1, 2, ..., 8, 9, 8])"
      ]
     },
     "execution_count": 4,
     "metadata": {},
     "output_type": "execute_result"
    }
   ],
   "source": [
    "# target that contains actual result i.e. the numerical values\n",
    "digits.target"
   ]
  },
  {
   "cell_type": "code",
   "execution_count": 5,
   "metadata": {},
   "outputs": [
    {
     "data": {
      "text/plain": [
       "1797"
      ]
     },
     "execution_count": 5,
     "metadata": {},
     "output_type": "execute_result"
    }
   ],
   "source": [
    "# target size\n",
    "digits.target.size"
   ]
  },
  {
   "cell_type": "markdown",
   "metadata": {},
   "source": [
    "We can see that target size as 1797. It reprsents the numerical value for each elemet from digits.images"
   ]
  },
  {
   "cell_type": "code",
   "execution_count": 6,
   "metadata": {},
   "outputs": [
    {
     "data": {
      "text/plain": [
       "<matplotlib.image.AxesImage at 0x21998daeb88>"
      ]
     },
     "execution_count": 6,
     "metadata": {},
     "output_type": "execute_result"
    },
    {
     "data": {
      "image/png": "[encoded data removed]",
      "text/plain": [
       "<Figure size 432x288 with 1 Axes>"
      ]
     },
     "metadata": {
      "needs_background": "light"
     },
     "output_type": "display_data"
    }
   ],
   "source": [
    "\n",
    "plt.imshow(digits.images[0], cmap=plt.cm.gray_r, interpolation='nearest')"
   ]
  },
  {
   "cell_type": "markdown",
   "metadata": {},
   "source": [
    "### Divide the dataset into train and test dataset"
   ]
  },
  {
   "cell_type": "markdown",
   "metadata": {},
   "source": [
    "This dataset contains 1,797 elements, and so you can consider the first 1,791 as a\n",
    "training set and will use the last six as a validation set"
   ]
  },
  {
   "cell_type": "code",
   "execution_count": 7,
   "metadata": {},
   "outputs": [],
   "source": [
    "X_train = digits.data[0:1791]\n",
    "Y_train = digits.target[0:1791]\n",
    "X_test = digits.data[1791:1797]\n",
    "Y_test = digits.target[1791:1797]"
   ]
  },
  {
   "cell_type": "code",
   "execution_count": 8,
   "metadata": {},
   "outputs": [
    {
     "name": "stdout",
     "output_type": "stream",
     "text": [
      "114624 1791 384 6\n"
     ]
    }
   ],
   "source": [
    "print(X_train.size,Y_train.size,X_test.size,Y_test.size)"
   ]
  },
  {
   "cell_type": "markdown",
   "metadata": {},
   "source": [
    "### Testing data set looks"
   ]
  },
  {
   "cell_type": "code",
   "execution_count": 9,
   "metadata": {},
   "outputs": [
    {
     "data": {
      "image/png": "[encoded data removed]",
      "text/plain": [
       "<Figure size 1440x288 with 6 Axes>"
      ]
     },
     "metadata": {
      "needs_background": "light"
     },
     "output_type": "display_data"
    }
   ],
   "source": [
    "plt.figure(figsize=(20,4))\n",
    "for i in range(Y_test.size):\n",
    "    plt.subplot(161+i)\n",
    "    plt.imshow(digits.images[1791+i], cmap=plt.cm.gray_r,interpolation='nearest')\n",
    "    plt.title('Training: %i\\n' % i,fontsize=18)"
   ]
  },
  {
   "cell_type": "code",
   "execution_count": 10,
   "metadata": {},
   "outputs": [],
   "source": [
    "svc = SVC(gamma=0.001, C=100.)"
   ]
  },
  {
   "cell_type": "code",
   "execution_count": 11,
   "metadata": {},
   "outputs": [
    {
     "data": {
      "text/plain": [
       "1.0"
      ]
     },
     "execution_count": 11,
     "metadata": {},
     "output_type": "execute_result"
    }
   ],
   "source": [
    "# Fiiting the model and predicting the result\n",
    "svc.fit(X_train,Y_train)\n",
    "predict = svc.predict(X_test)\n",
    "svc.score(X_test,Y_test)"
   ]
  },
  {
   "cell_type": "markdown",
   "metadata": {},
   "source": [
    ">#### Here we got **100%** accuracy, \n",
    "<br>\n",
    "## To test the hypothesis, we will use three different size for train and test data"
   ]
  },
  {
   "cell_type": "markdown",
   "metadata": {},
   "source": [
    "### 1] Train and test divided in the ratio 9:1"
   ]
  },
  {
   "cell_type": "code",
   "execution_count": 13,
   "metadata": {},
   "outputs": [
    {
     "name": "stdout",
     "output_type": "stream",
     "text": [
      "Data set divided in ratio 9:1\n",
      "X_train : 103488 \tY_train : 1617 \n",
      "X_test : 11520 \tY_test : 180\n",
      "Accuracy :  0.9888888888888889\n"
     ]
    }
   ],
   "source": [
    "# divide data set into 9:1 ratio\n",
    "X_train, X_test, Y_train, Y_test = train_test_split(digits.data, digits.target, test_size=0.1, random_state=0)\n",
    "\n",
    "#check the size of train and test\n",
    "print(\"Data set divided in ratio 9:1\")\n",
    "print(\"X_train :\",X_train.size,\"\\tY_train :\",Y_train.size,\"\\nX_test :\",X_test.size,\"\\tY_test :\",Y_test.size)\n",
    "\n",
    "#fitting and predicting\n",
    "svc.fit(X_train,Y_train)\n",
    "predict = svc.predict(X_test)\n",
    "score_1=svc.score(X_test,Y_test)\n",
    "print(\"Accuracy : \",score_1)"
   ]
  },
  {
   "cell_type": "markdown",
   "metadata": {},
   "source": [
    "### Classification Report"
   ]
  },
  {
   "cell_type": "code",
   "execution_count": 14,
   "metadata": {},
   "outputs": [
    {
     "name": "stdout",
     "output_type": "stream",
     "text": [
      "Classification report for classifier SVC :\n",
      "              precision    recall  f1-score   support\n",
      "\n",
      "           0       1.00      1.00      1.00        11\n",
      "           1       0.95      1.00      0.98        20\n",
      "           2       1.00      1.00      1.00        16\n",
      "           3       1.00      1.00      1.00        10\n",
      "           4       1.00      1.00      1.00        10\n",
      "           5       0.95      1.00      0.98        21\n",
      "           6       1.00      1.00      1.00        25\n",
      "           7       1.00      1.00      1.00        20\n",
      "           8       1.00      0.96      0.98        23\n",
      "           9       1.00      0.96      0.98        24\n",
      "\n",
      "    accuracy                           0.99       180\n",
      "   macro avg       0.99      0.99      0.99       180\n",
      "weighted avg       0.99      0.99      0.99       180\n",
      "\n",
      "\n"
     ]
    }
   ],
   "source": [
    "print(f\"Classification report for classifier SVC :\\n\"f\"{classification_report(Y_test, predict)}\\n\")"
   ]
  },
  {
   "cell_type": "markdown",
   "metadata": {},
   "source": [
    "### 2] Train and test divided in the ratio 8:2"
   ]
  },
  {
   "cell_type": "code",
   "execution_count": 16,
   "metadata": {},
   "outputs": [
    {
     "name": "stdout",
     "output_type": "stream",
     "text": [
      "Data set divided in ratio 8:2\n",
      "X_train : 91968 \tY_train : 1437 \n",
      "X_test : 23040 \tY_test : 360\n",
      "Accuracy :  0.9916666666666667\n"
     ]
    }
   ],
   "source": [
    "# divide data set into 9:1 ratio\n",
    "X_train, X_test, Y_train, Y_test = train_test_split(digits.data, digits.target, test_size=0.2, random_state=0)\n",
    "\n",
    "#check the size of train and test\n",
    "print(\"Data set divided in ratio 8:2\")\n",
    "print(\"X_train :\",X_train.size,\"\\tY_train :\",Y_train.size,\"\\nX_test :\",X_test.size,\"\\tY_test :\",Y_test.size)\n",
    "\n",
    "#fitting and predicting\n",
    "svc.fit(X_train,Y_train)\n",
    "predict = svc.predict(X_test)\n",
    "score_2 = svc.score(X_test,Y_test)\n",
    "print(\"Accuracy : \",score_2)"
   ]
  },
  {
   "cell_type": "markdown",
   "metadata": {},
   "source": [
    "### Classification Report"
   ]
  },
  {
   "cell_type": "code",
   "execution_count": 17,
   "metadata": {},
   "outputs": [
    {
     "name": "stdout",
     "output_type": "stream",
     "text": [
      "Classification report for classifier SVC :\n",
      "              precision    recall  f1-score   support\n",
      "\n",
      "           0       1.00      1.00      1.00        27\n",
      "           1       0.97      1.00      0.99        35\n",
      "           2       1.00      1.00      1.00        36\n",
      "           3       1.00      1.00      1.00        29\n",
      "           4       1.00      1.00      1.00        30\n",
      "           5       0.97      0.97      0.97        40\n",
      "           6       1.00      1.00      1.00        44\n",
      "           7       1.00      1.00      1.00        39\n",
      "           8       1.00      0.97      0.99        39\n",
      "           9       0.98      0.98      0.98        41\n",
      "\n",
      "    accuracy                           0.99       360\n",
      "   macro avg       0.99      0.99      0.99       360\n",
      "weighted avg       0.99      0.99      0.99       360\n",
      "\n",
      "\n"
     ]
    }
   ],
   "source": [
    "print(f\"Classification report for classifier SVC :\\n\" f\"{classification_report(Y_test, predict)}\\n\")"
   ]
  },
  {
   "cell_type": "markdown",
   "metadata": {},
   "source": [
    "### 3] Train and test divided in the ratio 7:3"
   ]
  },
  {
   "cell_type": "code",
   "execution_count": 18,
   "metadata": {},
   "outputs": [
    {
     "name": "stdout",
     "output_type": "stream",
     "text": [
      "Data set divided in ratio 7:3\n",
      "X_train : 80448 \tY_train : 1257 \n",
      "X_test : 34560 \tY_test : 540\n",
      "Accuracy :  0.9907407407407407\n"
     ]
    }
   ],
   "source": [
    "# divide data set into 9:1 ratio\n",
    "X_train, X_test, Y_train, Y_test = train_test_split(digits.data, digits.target, test_size=0.3, random_state=0)\n",
    "\n",
    "#check the size of train and test\n",
    "print(\"Data set divided in ratio 7:3\")\n",
    "print(\"X_train :\",X_train.size,\"\\tY_train :\",Y_train.size,\"\\nX_test :\",X_test.size,\"\\tY_test :\",Y_test.size)\n",
    "\n",
    "#fitting and predicting\n",
    "svc.fit(X_train,Y_train)\n",
    "predict = svc.predict(X_test)\n",
    "score_3 = svc.score(X_test,Y_test)\n",
    "print(\"Accuracy : \",score_3)"
   ]
  },
  {
   "cell_type": "markdown",
   "metadata": {},
   "source": [
    "### Classification Report"
   ]
  },
  {
   "cell_type": "code",
   "execution_count": 19,
   "metadata": {},
   "outputs": [
    {
     "name": "stdout",
     "output_type": "stream",
     "text": [
      "Classification report for classifier SVC :\n",
      "              precision    recall  f1-score   support\n",
      "\n",
      "           0       1.00      1.00      1.00        45\n",
      "           1       0.98      1.00      0.99        52\n",
      "           2       1.00      0.98      0.99        53\n",
      "           3       1.00      1.00      1.00        54\n",
      "           4       1.00      1.00      1.00        48\n",
      "           5       0.98      0.96      0.97        57\n",
      "           6       0.98      1.00      0.99        60\n",
      "           7       0.98      1.00      0.99        53\n",
      "           8       1.00      0.98      0.99        61\n",
      "           9       0.98      0.98      0.98        57\n",
      "\n",
      "    accuracy                           0.99       540\n",
      "   macro avg       0.99      0.99      0.99       540\n",
      "weighted avg       0.99      0.99      0.99       540\n",
      "\n",
      "\n"
     ]
    }
   ],
   "source": [
    "print(f\"Classification report for classifier SVC :\\n\" f\"{classification_report(Y_test, predict)}\\n\")"
   ]
  },
  {
   "cell_type": "markdown",
   "metadata": {},
   "source": [
    "### 2] Train and test divided in the ratio 6:4"
   ]
  },
  {
   "cell_type": "code",
   "execution_count": 20,
   "metadata": {},
   "outputs": [
    {
     "name": "stdout",
     "output_type": "stream",
     "text": [
      "Data set divided in ratio 6:4\n",
      "X_train : 68992 \tY_train : 1078 \n",
      "X_test : 46016 \tY_test : 719\n",
      "Accuracy :  0.9874826147426982\n"
     ]
    }
   ],
   "source": [
    "# divide data set into 9:1 ratio\n",
    "X_train, X_test, Y_train, Y_test = train_test_split(digits.data, digits.target, test_size=0.4, random_state=0)\n",
    "\n",
    "#check the size of train and test\n",
    "print(\"Data set divided in ratio 6:4\")\n",
    "print(\"X_train :\",X_train.size,\"\\tY_train :\",Y_train.size,\"\\nX_test :\",X_test.size,\"\\tY_test :\",Y_test.size)\n",
    "\n",
    "#fitting and predicting\n",
    "svc.fit(X_train,Y_train)\n",
    "predict = svc.predict(X_test)\n",
    "score_4 = svc.score(X_test,Y_test)\n",
    "print(\"Accuracy : \",score_4)"
   ]
  },
  {
   "cell_type": "markdown",
   "metadata": {},
   "source": [
    "### Classification Report"
   ]
  },
  {
   "cell_type": "code",
   "execution_count": 21,
   "metadata": {},
   "outputs": [
    {
     "name": "stdout",
     "output_type": "stream",
     "text": [
      "Classification report for classifier SVC :\n",
      "              precision    recall  f1-score   support\n",
      "\n",
      "           0       1.00      1.00      1.00        60\n",
      "           1       0.95      1.00      0.97        73\n",
      "           2       1.00      0.97      0.99        71\n",
      "           3       1.00      1.00      1.00        70\n",
      "           4       1.00      1.00      1.00        63\n",
      "           5       0.99      0.97      0.98        89\n",
      "           6       0.99      1.00      0.99        76\n",
      "           7       0.98      1.00      0.99        65\n",
      "           8       1.00      0.96      0.98        78\n",
      "           9       0.97      0.99      0.98        74\n",
      "\n",
      "    accuracy                           0.99       719\n",
      "   macro avg       0.99      0.99      0.99       719\n",
      "weighted avg       0.99      0.99      0.99       719\n",
      "\n",
      "\n"
     ]
    }
   ],
   "source": [
    "print(f\"Classification report for classifier SVC :\\n\" f\"{classification_report(Y_test, predict)}\\n\")"
   ]
  },
  {
   "cell_type": "code",
   "execution_count": 36,
   "metadata": {},
   "outputs": [],
   "source": [
    "accuracy =[score_1,score_2,score_3,score_4]\n",
    "size = ['9:1','8:2','7:3','6:4']"
   ]
  },
  {
   "cell_type": "code",
   "execution_count": 41,
   "metadata": {},
   "outputs": [
    {
     "data": {
      "text/plain": [
       "Text(0.5, 0, 'train test ratio')"
      ]
     },
     "execution_count": 41,
     "metadata": {},
     "output_type": "execute_result"
    },
    {
     "data": {
      "image/png": "[encoded data removed]",
      "text/plain": [
       "<Figure size 432x288 with 1 Axes>"
      ]
     },
     "metadata": {
      "needs_background": "light"
     },
     "output_type": "display_data"
    }
   ],
   "source": [
    "plt.plot(accuracy,'mo--')\n",
    "plt.xticks([0, 1, 2, 3], size)\n",
    "plt.title('Accuracy Score For different data size',fontsize = 18)\n",
    "plt.ylabel('Accuracy Score',fontsize = 15)\n",
    "plt.xlabel('train test ratio',fontsize = 15)"
   ]
  },
  {
   "cell_type": "markdown",
   "metadata": {},
   "source": [
    "> #### We applied SVC model on different data size for training and testing purpose and we get accuracy **Above 95%**\n",
    ">### Hence , we have to **accept the NULL HYPOTHESIS**"
   ]
  }
 ],
 "metadata": {
  "kernelspec": {
   "display_name": "Python 3",
   "language": "python",
   "name": "python3"
  },
  "language_info": {
   "codemirror_mode": {
    "name": "ipython",
    "version": 3
   },
   "file_extension": ".py",
   "mimetype": "text/x-python",
   "name": "python",
   "nbconvert_exporter": "python",
   "pygments_lexer": "ipython3",
   "version": "3.7.4"
  }
 },
 "nbformat": 4,
 "nbformat_minor": 2
}
